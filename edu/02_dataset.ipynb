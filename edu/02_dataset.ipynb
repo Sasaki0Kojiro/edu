{
  "nbformat": 4,
  "nbformat_minor": 0,
  "metadata": {
    "colab": {
      "provenance": [],
      "collapsed_sections": [
        "cqkUSUF-imml"
      ]
    },
    "kernelspec": {
      "name": "python3",
      "display_name": "Python 3"
    },
    "language_info": {
      "name": "python"
    }
  },
  "cells": [
    {
      "cell_type": "markdown",
      "source": [
        "データセットとデータローダー\n",
        "===================\n",
        "\n",
        "サンプルデータを処理するのはとても大変なのでpytorchのライブラリを上手に使う．\n",
        "\n",
        "データセットのコードは訓練コードとは切り離すのが一般的．"
      ],
      "metadata": {
        "id": "UhLBHwojUF3x"
      }
    },
    {
      "cell_type": "markdown",
      "source": [
        "Datasetの読み込み\n",
        "-------------------\n",
        "\n",
        "TorchVisionから[Fashion-MNIST](https://research.zalando.com/welcome/mission/research-projects/fashion-mnist/)をロードする例を紹介する．\n",
        "\n",
        "余談だがMNISTは機械学習の比較的簡単なタスクであるため研究レベルではあまり使われない\n",
        "\n",
        "今回はGoogle Colabでも簡単に動くので採用している\n",
        "\n",
        "Fashion-MNISTは、60,000個の訓練データと10,000個のテストデータから構成された、Zalandoの記事画像のデータセット．\n",
        "\n",
        "各サンプルは、28×28のグレースケール画像と、10クラスのうちの1つのラベルから構成されている．"
      ],
      "metadata": {
        "id": "YEC4_qvuUnst"
      }
    },
    {
      "cell_type": "code",
      "execution_count": 1,
      "metadata": {
        "id": "9h56m1I6T_Eo"
      },
      "outputs": [],
      "source": [
        "import torch\n",
        "from torch.utils.data import Dataset\n",
        "from torchvision import datasets\n",
        "from torchvision.transforms import ToTensor, Lambda\n",
        "import matplotlib.pyplot as plt"
      ]
    },
    {
      "cell_type": "markdown",
      "source": [
        "[FashionMNIST Dataset](https://pytorch.org/docs/stable/torchvision/datasets.html#fashion-mnist)を読み込む際には、以下のパラメータを使用する．\n",
        "\n",
        "これはよく使う．\n",
        "\n",
        "- ``root`` ：訓練/テストデータが格納されているパスを指定\n",
        "- ``train`` ：訓練データまたはテストデータセットを指定\n",
        "- ``download=True``：``root`` にデータが存在しない場合は、インターネットからデータをダウンロードを指定\n",
        "- ``transform`` と ``target_transform``：特徴量とラベルの変換を指定\n",
        "\n",
        "通常transformのところにはもっと多くの変換を盛り込むことが多い．\n",
        "\n",
        "後述する."
      ],
      "metadata": {
        "id": "2_d3bs6nVjwi"
      }
    },
    {
      "cell_type": "code",
      "source": [
        "train_data = datasets.FashionMNIST(\n",
        "    root=\"data\",\n",
        "    train=True,\n",
        "    download=True,\n",
        "    transform=ToTensor()\n",
        ")\n",
        "\n",
        "test_data = datasets.FashionMNIST(\n",
        "    root=\"data\",\n",
        "    train=False,\n",
        "    download=True,\n",
        "    transform=ToTensor()\n",
        ")"
      ],
      "metadata": {
        "id": "MEwFOydgVaFd",
        "colab": {
          "base_uri": "https://localhost:8080/"
        },
        "outputId": "1ae69080-4136-4dd4-d274-2e24fb44680d"
      },
      "execution_count": 2,
      "outputs": [
        {
          "output_type": "stream",
          "name": "stderr",
          "text": [
            "100%|██████████| 26.4M/26.4M [00:03<00:00, 7.70MB/s]\n",
            "100%|██████████| 29.5k/29.5k [00:00<00:00, 128kB/s]\n",
            "100%|██████████| 4.42M/4.42M [00:01<00:00, 2.39MB/s]\n",
            "100%|██████████| 5.15k/5.15k [00:00<00:00, 8.27MB/s]\n"
          ]
        }
      ]
    },
    {
      "cell_type": "markdown",
      "source": [
        "データセットの反復処理と可視化\n",
        "-----------------\n",
        "\n",
        "Datasetの特定indexを指定する際には、リスト操作と同様に、``training_data[index]``と記載．\n",
        "\n",
        "``matplotlib``を使用し、訓練データのいくつかのサンプルを可視化する．\n",
        "\n"
      ],
      "metadata": {
        "id": "9UuyDL8KWZHM"
      }
    },
    {
      "cell_type": "code",
      "source": [
        "labels_map = {                                                 #各写真は数字で表現されているので見やすくするために対応づけしている\n",
        "    0: \"T-Shirt\",\n",
        "    1: \"Trouser\",\n",
        "    2: \"Pullover\",\n",
        "    3: \"Dress\",\n",
        "    4: \"Coat\",\n",
        "    5: \"Sandal\",\n",
        "    6: \"Shirt\",\n",
        "    7: \"Sneaker\",\n",
        "    8: \"Bag\",\n",
        "    9: \"Ankle Boot\",\n",
        "}\n",
        "figure = plt.figure(figsize=(12, 12))                            #画像のサイズ\n",
        "cols, rows = 3, 3\n",
        "for i in range(1, cols * rows + 1):\n",
        "    sample_idx = torch.randint(len(train_data), size=(1,)).item()#データのサンプリング\n",
        "    img, label = train_data[sample_idx]                        #データセットにアクセス画像をラベルを取得\n",
        "    figure.add_subplot(rows, cols, i)\n",
        "    plt.title(labels_map[label])\n",
        "    plt.axis(\"off\")\n",
        "    plt.imshow(img.squeeze(), cmap=\"gray\")\n",
        "plt.show()"
      ],
      "metadata": {
        "colab": {
          "base_uri": "https://localhost:8080/",
          "height": 983
        },
        "id": "zyg3787aVgGi",
        "outputId": "1a2fc9f8-20fa-430d-fd0e-2f9c6b3e4618"
      },
      "execution_count": 3,
      "outputs": [
        {
          "output_type": "display_data",
          "data": {
            "text/plain": [
              "<Figure size 1200x1200 with 9 Axes>"
            ],
            "image/png": "[encoded data removed]"
          },
          "metadata": {}
        }
      ]
    },
    {
      "cell_type": "markdown",
      "source": [
        "DataLoaderの使用方法\n",
        "-------------------------------------------------\n",
        "\n",
        "``Dataset``を使用することで1つのサンプルの、データとラベルを取り出せる．\n",
        "\n",
        "ですが、モデルの訓練時にはミニバッチ（\"minibatches\"）単位でデータを扱いたく、また各epochでデータはshuffleされる必要あり（訓練データへの過学習を防ぐ目的）．\n",
        "\n",
        "加えて、Pythonの ``multiprocessing``を使用し、複数データの取り出しを高速化したい．\n",
        "\n",
        "``DataLoader``は上記に示した複雑な処理を簡単に実行できるようにしてくれるAPIになる.\n"
      ],
      "metadata": {
        "id": "LU1YrrepdIRZ"
      }
    },
    {
      "cell_type": "code",
      "source": [
        "from torch.utils.data import DataLoader\n",
        "\n",
        "train_dataloader = DataLoader(train_data, batch_size=64, shuffle=True,num_workers = 2)\n",
        "test_dataloader = DataLoader(test_data, batch_size=64, shuffle=True,num_workers = 2)"
      ],
      "metadata": {
        "id": "59o-B54KWSVO"
      },
      "execution_count": 4,
      "outputs": []
    },
    {
      "cell_type": "markdown",
      "source": [
        "``num_workers``はミニバッチを作成する際の並列実行数を表していて，論理スレッド数分の高速化が期待できる．\n",
        "\n",
        "大体2とそれ以上でそこまで性能は変わらない\n",
        "\n",
        "また，論理スレッドの数に依存しているのでそれ以上の数は指定できない．"
      ],
      "metadata": {
        "id": "0QuP3sMPeVYw"
      }
    },
    {
      "cell_type": "markdown",
      "source": [
        "DataLoaderを用いた繰り返し処理\n",
        "--------------------------\n",
        "\n",
        "データセットを ``Dataloader`` に読み込ませ、必要に応じてデータセットを反復処理することができる．\n",
        "\n",
        "今回``shuffle=True``と指定しているので、データセットのデータを全て取り出したら、データの順番は再びシャッフルされる．\n",
        "\n"
      ],
      "metadata": {
        "id": "MTVxL_VggS21"
      }
    },
    {
      "cell_type": "code",
      "source": [
        "# Display image and label.\n",
        "train_features, train_labels = next(iter(train_dataloader))\n",
        "print(f\"Feature batch shape: {train_features.size()}\")\n",
        "print(f\"Labels batch shape: {train_labels.size()}\")\n",
        "img = train_features[0].squeeze()\n",
        "label = train_labels[0]\n",
        "plt.imshow(img, cmap=\"gray\")\n",
        "plt.show()\n",
        "print(f\"Label: {label}\")"
      ],
      "metadata": {
        "colab": {
          "base_uri": "https://localhost:8080/",
          "height": 486
        },
        "id": "Nyp6KM17eJjf",
        "outputId": "c2e122e6-d89c-4551-d3f2-c8a20c72822b"
      },
      "execution_count": 5,
      "outputs": [
        {
          "output_type": "stream",
          "name": "stdout",
          "text": [
            "Feature batch shape: torch.Size([64, 1, 28, 28])\n",
            "Labels batch shape: torch.Size([64])\n"
          ]
        },
        {
          "output_type": "display_data",
          "data": {
            "text/plain": [
              "<Figure size 640x480 with 1 Axes>"
            ],
            "image/png": "[encoded data removed]"
          },
          "metadata": {}
        },
        {
          "output_type": "stream",
          "name": "stdout",
          "text": [
            "Label: 7\n"
          ]
        }
      ]
    },
    {
      "cell_type": "markdown",
      "source": [
        "Transforms\n",
        "===================\n",
        "常に学習に適したデータセットが渡されるわけでもないので自分らでデータを適切に処理する必要がある．\n",
        "\n",
        "データ拡張によって変換された画像を新たな画像と捉えることでデータの水増しと読んだりもする\n",
        "\n",
        "また，機械学習では一般にデータの数が多いほど，訓練損失は期待損失をうまく近似することができるためこの水増しは大きな意味を持つ．\n"
      ],
      "metadata": {
        "id": "_V0cFoE1hKyZ"
      }
    },
    {
      "cell_type": "code",
      "source": [
        "from torchvision import datasets\n",
        "from torchvision.transforms import ToTensor, Lambda\n",
        "\n",
        "ds = datasets.FashionMNIST(\n",
        "    root=\"data\",\n",
        "    train=True,\n",
        "    download=True,\n",
        "    transform=ToTensor(),\n",
        "    target_transform=Lambda(lambda y: torch.zeros(10, dtype=torch.float).scatter_(0, torch.tensor(y), value=1))\n",
        ")"
      ],
      "metadata": {
        "id": "AWZqJtfEgIrB"
      },
      "execution_count": 6,
      "outputs": []
    },
    {
      "cell_type": "markdown",
      "source": [
        "FashionMNISTデータセットの特徴量はPIL形式の画像であり、ラベルはint型で渡される．\n",
        "\n",
        "実際の訓練では、正規化された特徴量テンソルと、one-hotエンコーディングされたラベルのテンソルが必要になる\n",
        "\n",
        "これらのデータを作るために、``ToTensor`` と ``Lambda``を使用する．"
      ],
      "metadata": {
        "id": "cpzVYbjsiVkc"
      }
    },
    {
      "cell_type": "markdown",
      "source": [
        "ToTensor()\n",
        "-------------------------------\n",
        "\n",
        "[`ToTensor`](https://pytorch.org/docs/stable/torchvision/transforms.html#torchvision.transforms.ToTensor)はPIL形式の画像、もしくはNumpyの``ndarray``を、``FloatTensor``に変換する．\n",
        "\n",
        "\n",
        "加えて、画像の場合にはピクセルごとの値を [0., 1.]の範囲に変換する．\n",
        "\n",
        "よく使う．"
      ],
      "metadata": {
        "id": "cqkUSUF-imml"
      }
    },
    {
      "cell_type": "markdown",
      "source": [
        "Lambda Transforms\n",
        "-------------------------------\n",
        "\n",
        "Lambda transformsは、ユーザーが定義した関数を実行するPython関数．\n",
        "\n",
        "\n",
        "\n",
        "本チュートリアルではint型のデータを、one-hotエンコーディングしたテンソルへと変換している．\n",
        "\n",
        "<br>\n",
        "\n",
        "最初に大きさ10のゼロテンソルを作成し（10はクラス数に対応）、[`scatter_`](https://pytorch.org/docs/stable/tensors.html#torch.Tensor.scatter_) を用いて、ラベル``y``の値のindexのみ1のワンホットエンコーディングに変換している．\n",
        "\n"
      ],
      "metadata": {
        "id": "hYc9pIpVi7q8"
      }
    },
    {
      "cell_type": "code",
      "source": [
        "target_transform = Lambda(lambda y: torch.zeros(\n",
        "    10, dtype=torch.float).scatter_(dim=0, index=torch.tensor(y), value=1))"
      ],
      "metadata": {
        "id": "hq8k6ShXhJnX"
      },
      "execution_count": 7,
      "outputs": []
    },
    {
      "cell_type": "markdown",
      "source": [
        "これらは機械学習のデータセットとして基本的な所作になるので一度できたら使いまわすことが多い．"
      ],
      "metadata": {
        "id": "QV3sfVyAjhb9"
      }
    }
  ]
}